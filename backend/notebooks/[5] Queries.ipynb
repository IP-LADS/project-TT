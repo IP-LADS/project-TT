{
 "cells": [
  {
   "cell_type": "markdown",
   "metadata": {},
   "source": [
    "# Queries\n",
    "- We will implement several functions that we use to operate with out database"
   ]
  },
  {
   "cell_type": "code",
   "execution_count": null,
   "metadata": {},
   "outputs": [],
   "source": [
    "%load_ext autoreload\n",
    "%autoreload 2"
   ]
  },
  {
   "cell_type": "code",
   "execution_count": null,
   "metadata": {},
   "outputs": [],
   "source": [
    "import sys\n",
    "sys.path.append('../../backend')\n",
    "import matplotlib.pyplot as plt\n",
    "from core.db.persistence import load_dataset"
   ]
  },
  {
   "cell_type": "code",
   "execution_count": null,
   "metadata": {},
   "outputs": [],
   "source": [
    "# load dataset\n",
    "dataset = load_dataset('../..', load_thumbnail=True)"
   ]
  },
  {
   "cell_type": "code",
   "execution_count": null,
   "metadata": {},
   "outputs": [],
   "source": [
    "# see first 3 entries\n",
    "for i in range(3):\n",
    "    item = dataset[i]\n",
    "    print(item)\n",
    "    plt.figure();plt.imshow(item.thumbnail); plt.show()\n",
    "    print('[Caption]:', item.caption)\n",
    "    print('[#likes]:', item.likes_count)\n",
    "    print()"
   ]
  },
  {
   "cell_type": "markdown",
   "metadata": {},
   "source": [
    "# Tasks"
   ]
  },
  {
   "cell_type": "markdown",
   "metadata": {},
   "source": [
    "##### 1. Write a function called `find_most_liked_media` that takes `dataset` and returns the most liked media. Use the function to find the most liked media and display the information"
   ]
  },
  {
   "cell_type": "code",
   "execution_count": null,
   "metadata": {},
   "outputs": [],
   "source": [
    "def find_most_liked_media(dataset):\n",
    "    num_likes = 0\n",
    "    most_liked_media = None\n",
    "    for media in dataset:\n",
    "        if media.likes_count > num_likes:\n",
    "            most_liked_media = media\n",
    "    return most_liked_media\n",
    "\n",
    "item = find_most_liked_media(dataset)\n",
    "print(item)\n",
    "plt.figure();plt.imshow(item.thumbnail); plt.show()\n",
    "print('[Caption]:', item.caption)\n",
    "print('[#likes]:', item.likes_count)"
   ]
  },
  {
   "cell_type": "markdown",
   "metadata": {},
   "source": [
    "##### 2. Write a function  called `find_most_commented_media` that takes `dataset` and returns the most commented media. Use the function to find the most commented media and display the information"
   ]
  },
  {
   "cell_type": "code",
   "execution_count": null,
   "metadata": {},
   "outputs": [],
   "source": [
    "def find_most_commented_media(dataset):\n",
    "    # TODO replace this with most commented media\n",
    "    return dataset[0]"
   ]
  },
  {
   "cell_type": "markdown",
   "metadata": {},
   "source": [
    "##### 3. Write a function called `find_media_containing_tag(dataset, tag)` that takes `dataset`, `tag` and returns all media containing \"#tag\" in the caption. Use the function to find how many posts contains #london in the dataset"
   ]
  },
  {
   "cell_type": "code",
   "execution_count": null,
   "metadata": {},
   "outputs": [],
   "source": [
    "def find_media_by_tag(dataset, tag):\n",
    "    # TODO replace this with all medias containing the tag in the caption\n",
    "    return []\n",
    "\n",
    "filtered_dataset = find_media_by_tag(dataset, 'london')\n",
    "print(f'{len(filtered_dataset)}/{len(dataset)} elements contains #london')"
   ]
  },
  {
   "cell_type": "markdown",
   "metadata": {},
   "source": [
    "##### 3.1 Write a function called `find_media_containing_tags(dataset, tags)` that takes `dataset` and a list of tags and returns all media containing all the tags. Use the function to find how many posts contains #london and #uk in the dataset"
   ]
  },
  {
   "cell_type": "code",
   "execution_count": null,
   "metadata": {},
   "outputs": [],
   "source": [
    "def find_media_by_tags(dataset, tag):\n",
    "    # TODO replace this with all medias containing the tags in the caption\n",
    "    return []\n",
    "\n",
    "tags = ['london', 'uk']\n",
    "filtered_dataset = find_media_by_tags(dataset, tags)\n",
    "print(f'{len(filtered_dataset)}/{len(dataset)} elements contains {tags}')"
   ]
  },
  {
   "cell_type": "markdown",
   "metadata": {},
   "source": [
    "##### 4. Find the most liked media containing \"#london\" and most commented media containing \"#uk\""
   ]
  },
  {
   "cell_type": "code",
   "execution_count": null,
   "metadata": {},
   "outputs": [],
   "source": [
    "# hint: reuse the functions already created above!"
   ]
  },
  {
   "cell_type": "markdown",
   "metadata": {},
   "source": [
    "##### 5. Write a function called `find_media_by_date(dataset, date)` that returns all media posted in a certain date. Use that function to find out how many medias were posted in November 29 2019"
   ]
  },
  {
   "cell_type": "code",
   "execution_count": null,
   "metadata": {},
   "outputs": [],
   "source": [
    "# hint: use arithematic based on `datetime` library\n",
    "import datetime\n",
    "def find_media_by_date(dataset, date):\n",
    "    # TODO replace this with all medias posted on certain date\n",
    "    return []\n",
    "\n",
    "date = datetime.datetime(2019, 11, 29)\n",
    "filtered_dataset = find_media_by_date(dataset, date)\n",
    "print(f'{len(filtered_dataset)} posts were posted on {date.strftime(\"%Y-%m-%d\")}')"
   ]
  },
  {
   "cell_type": "markdown",
   "metadata": {},
   "source": [
    "##### 6. Find all the unique dates medias were posted"
   ]
  },
  {
   "cell_type": "code",
   "execution_count": null,
   "metadata": {},
   "outputs": [],
   "source": [
    "# hint: find unique set of `dataset[i].time`"
   ]
  },
  {
   "cell_type": "markdown",
   "metadata": {},
   "source": [
    "##### 7. Plot a graph which counts how many posts were posted in each date for all the medias in the database"
   ]
  },
  {
   "cell_type": "code",
   "execution_count": null,
   "metadata": {},
   "outputs": [],
   "source": [
    "# hint: use solution from Q6 and Q7.\n",
    "\n",
    "# you can plot like this:\n",
    "plt.bar(\n",
    "    ['2019-11-25', '2019-11-26', '2019-11-27', '2019-11-28', '2019-11-29', '2019-11-30', '2019-12-01'],\n",
    "    [32, 72, 3, 55, 24, 134, 120],\n",
    ")\n",
    "plt.xticks(rotation=40)"
   ]
  },
  {
   "cell_type": "markdown",
   "metadata": {},
   "source": [
    "##### 8: Find 10 most liked posts containing #london. Sort the result in terms of number of likes (descending order)\n"
   ]
  },
  {
   "cell_type": "markdown",
   "metadata": {},
   "source": [
    "##### 9. Find 10 most liked posts on Nov 29, 2019. Sort the result in terms of number of likes (descending order)"
   ]
  },
  {
   "cell_type": "markdown",
   "metadata": {},
   "source": [
    "##### 10. Find 10 most liked posts on Nov 29, 2019 containing #london. Sort the result in terms of number of likes (descending order)"
   ]
  }
 ],
 "metadata": {
  "kernelspec": {
   "display_name": "Python 3",
   "language": "python",
   "name": "python3"
  },
  "language_info": {
   "codemirror_mode": {
    "name": "ipython",
    "version": 3
   },
   "file_extension": ".py",
   "mimetype": "text/x-python",
   "name": "python",
   "nbconvert_exporter": "python",
   "pygments_lexer": "ipython3",
   "version": "3.6.8"
  }
 },
 "nbformat": 4,
 "nbformat_minor": 2
}
