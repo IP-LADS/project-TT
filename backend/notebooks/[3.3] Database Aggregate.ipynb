{
 "cells": [
  {
   "cell_type": "markdown",
   "metadata": {},
   "source": [
    "# Database Aggregation\n",
    "- So far the way we stored data looks like\n",
    "\n",
    "```bash\n",
    "|-- data\n",
    "|   |-- tag1\n",
    "|   |   |-- date1\n",
    "|   |   |   |-- tag1_date1.csv\n",
    "|   |   |   |-- tag1_date1_location.csv\n",
    "|   |   |   |-- images\n",
    "|   |   |   |-- thumbnails\n",
    "|   |   |-- date2\n",
    "|   |   |-- date3\n",
    "|   |-- tag2\n",
    "|   |-- ..\n",
    "```\n",
    "\n",
    "Let's correct them into one database:\n",
    "\n",
    "```bash\n",
    "|-- data\n",
    "|   |-- data.csv\n",
    "|   |-- images\n",
    "|   |-- thumbnails\n",
    "```"
   ]
  },
  {
   "cell_type": "code",
   "execution_count": 1,
   "metadata": {},
   "outputs": [],
   "source": [
    "import shutil\n",
    "import os, sys, time, glob, pathlib\n",
    "import numpy as np\n",
    "import pandas as pd\n",
    "\n",
    "PROJECT_ROOT = '../../../project-TT'\n",
    "sys.path.append(PROJECT_ROOT)\n",
    "sys.path.append(os.path.join(PROJECT_ROOT, 'backend'))  # backend root\n",
    "\n",
    "import core\n",
    "from core.envs import DATA_DIR\n",
    "DATA_DIR = os.path.join(PROJECT_ROOT, DATA_DIR)"
   ]
  },
  {
   "cell_type": "code",
   "execution_count": 12,
   "metadata": {},
   "outputs": [],
   "source": [
    "def create_dataset(data_dir):\n",
    "    \"\"\" combine csvs from hierarchical directories into one under `data_dir` \"\"\"\n",
    "\n",
    "    # create csv\n",
    "    data_path = pathlib.Path(data_dir)\n",
    "    csvs = [k for k in data_path.rglob('*_location.csv')]\n",
    "    dfs = []\n",
    "    for csv in csvs:\n",
    "        df = pd.read_csv(csv, quotechar=\"'\")\n",
    "        dfs.append(df)\n",
    "    dataset = pd.concat(dfs, ignore_index=True)\n",
    "    dataset.to_csv(os.path.join(data_dir, 'data.csv'), quotechar=\"'\", index=False)\n",
    "\n",
    "    # create directories\n",
    "    image_path = data_path / 'images'\n",
    "    thumbnail_path = data_path / 'thumbnails'\n",
    "    image_path.mkdir(exist_ok=True)\n",
    "    thumbnail_path.mkdir(exist_ok=True)\n",
    "\n",
    "    # copy images\n",
    "    for img in data_path.rglob('images/*.jpeg'):\n",
    "        if str(img).find(str(image_path)) > -1:\n",
    "            continue\n",
    "        shutil.copy2(img, image_path / os.path.basename(img))\n",
    "    \n",
    "    # copy thumbnails\n",
    "    for img in data_path.rglob('thumbnails/*.jpeg'):\n",
    "        if str(img).find(str(thumbnail_path)) > -1:\n",
    "            continue\n",
    "        shutil.copy2(img, thumbnail_path / os.path.basename(img))\n",
    "    \n",
    "    return dataset, data_path"
   ]
  },
  {
   "cell_type": "code",
   "execution_count": 13,
   "metadata": {},
   "outputs": [],
   "source": [
    "dataset, data_path = create_dataset(DATA_DIR)"
   ]
  }
 ],
 "metadata": {
  "kernelspec": {
   "display_name": "Python 3",
   "language": "python",
   "name": "python3"
  },
  "language_info": {
   "codemirror_mode": {
    "name": "ipython",
    "version": 3
   },
   "file_extension": ".py",
   "mimetype": "text/x-python",
   "name": "python",
   "nbconvert_exporter": "python",
   "pygments_lexer": "ipython3",
   "version": "3.6.8"
  }
 },
 "nbformat": 4,
 "nbformat_minor": 2
}
