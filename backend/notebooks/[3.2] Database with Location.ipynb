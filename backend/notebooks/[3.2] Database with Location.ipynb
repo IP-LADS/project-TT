{
 "cells": [
  {
   "cell_type": "markdown",
   "metadata": {},
   "source": [
    "# Scraping Location data and images\n",
    "- Scraping by tag allows us to obtain recent posts\n",
    "- But we need to scrape location information\n",
    "- As we established, scraping too fast will get us blocked. The recommended speed limit is also very slow -- Allowing 30-60s rest per request, we can scrape ~500 images a day"
   ]
  },
  {
   "cell_type": "code",
   "execution_count": 1,
   "metadata": {},
   "outputs": [],
   "source": [
    "# don't worry about these\n",
    "%load_ext autoreload\n",
    "%autoreload 2"
   ]
  },
  {
   "cell_type": "code",
   "execution_count": 2,
   "metadata": {},
   "outputs": [
    {
     "name": "stdout",
     "output_type": "stream",
     "text": [
      "/Users/jschlemper/projects/project-TT/backend/notebooks\r\n"
     ]
    }
   ],
   "source": [
    "!pwd"
   ]
  },
  {
   "cell_type": "code",
   "execution_count": null,
   "metadata": {},
   "outputs": [],
   "source": [
    "import os, sys, time\n",
    "sys.path.append('..')\n",
    "from time import sleep\n",
    "\n",
    "from igramscraper.instagram import Instagram\n",
    "from igramscraper.exception.instagram_not_found_exception import InstagramNotFoundException\n",
    "import numpy as np\n",
    "import matplotlib.pyplot as plt\n",
    "import pandas as pd\n",
    "from PIL import Image\n",
    "%matplotlib inline  \n",
    "\n",
    "# import previously defined functions\n",
    "from core.utils import get_thumbnail, show_thumbnail, imresize\n",
    "from core.instagram import get_media_by_url\n",
    "from core.envs import DATA_DIR, IMAGE_DIR, THUMBNAIL_DIR\n",
    "from core.db.persistence import media_to_row, DATA_ATTRIBUTES\n",
    "\n",
    "# change paths\n",
    "DATA_DIR = os.path.join('../../..', DATA_DIR)\n",
    "IMAGE_DIR = os.path.join('../../..', IMAGE_DIR)\n",
    "THUMBNAIL_DIR = os.path.join('../../..', THUMBNAIL_DIR)"
   ]
  },
  {
   "cell_type": "code",
   "execution_count": null,
   "metadata": {},
   "outputs": [],
   "source": [
    "# login\n",
    "instagram = Instagram(sleep_between_requests=15)\n",
    "instagram.with_credentials('username', 'password', 'cache')\n",
    "instagram.login()"
   ]
  },
  {
   "cell_type": "code",
   "execution_count": null,
   "metadata": {},
   "outputs": [],
   "source": [
    "instagram.sleep_between_requests = 30\n",
    "search_tag = 'usa'\n",
    "medias = instagram.get_medias_by_tag(search_tag, count=10)  # this will take some time!\n",
    "instagram.sleep_between_requests = 15"
   ]
  },
  {
   "cell_type": "code",
   "execution_count": null,
   "metadata": {},
   "outputs": [],
   "source": [
    "# create directory\n",
    "search_tag = 'london'\n",
    "timestamp = time.strftime(\"%Y%m%d\")\n",
    "dest_dir = os.path.join(DATA_DIR, search_tag, timestamp)\n",
    "dest_img_dir = os.path.join(dest_dir, 'images')\n",
    "dest_thumbnail_dir = os.path.join(dest_dir, 'thumbnails')\n",
    "\n",
    "if not os.path.isdir(dest_dir):\n",
    "    os.makedirs(dest_dir)\n",
    "    os.makedirs(dest_img_dir)\n",
    "    os.makedirs(dest_thumbnail_dir)\n",
    "    \n",
    "csv_name = os.path.join(dest_dir, f'{search_tag}_{timestamp}.csv')\n",
    "df.to_csv(csv_name, quotechar=\"'\", index=False)\n",
    "print(f'saved to {csv_name}')                 "
   ]
  },
  {
   "cell_type": "code",
   "execution_count": null,
   "metadata": {},
   "outputs": [],
   "source": [
    "medias = pd.read_csv(os.path.join(dest_dir, f'{search_tag}_{timestamp}.csv'), quotechar=\"'\")"
   ]
  },
  {
   "cell_type": "code",
   "execution_count": null,
   "metadata": {},
   "outputs": [],
   "source": [
    "bad_list = []\n",
    "full_medias = []\n",
    "progress_idx = 0\n",
    "\n",
    "# create csv to save to \n",
    "fname = os.path.join(dest_dir, f'{search_tag}_{timestamp}_location.csv')\n",
    "df_full_medias = pd.DataFrame([], columns=DATA_ATTRIBUTES)\n",
    "df_full_medias.to_csv(fname, quotechar=\"'\", index=False)"
   ]
  },
  {
   "cell_type": "code",
   "execution_count": null,
   "metadata": {
    "scrolled": true
   },
   "outputs": [],
   "source": [
    "for curr_idx in range(progress_idx+1, len(medias)):\n",
    "    media = medias.iloc[curr_idx]\n",
    "    print(f'[{curr_idx}/{len(medias)}]: {media.media_id}')\n",
    "\n",
    "    try:\n",
    "        # scrape media\n",
    "        sleep(np.random.randint(15))\n",
    "        print(f'.. scrape media {media.media_link}')\n",
    "        media_obj = get_media_by_url(instagram, media.media_link)\n",
    "\n",
    "        # scrape media image\n",
    "        sleep(np.random.randint(15))\n",
    "        print(f'.. scrape image {media.img_thumbnail_url}')\n",
    "        thumbnail = get_thumbnail(media.img_thumbnail_url)\n",
    "\n",
    "        # save the images\n",
    "        imname = f'{dest_img_dir}/{media.media_id}.jpeg'\n",
    "        thumbnail_name = f'{dest_thumbnail_dir}/{media.media_id}.jpeg'\n",
    "        Image.fromarray(thumbnail).save(imname)\n",
    "        Image.fromarray(imresize(thumbnail, (64,64))).save(thumbnail_name)\n",
    "\n",
    "        datarow = media_to_row(media_obj)\n",
    "        full_medias.append(datarow)\n",
    "        df_full_medias = df_full_medias.append(datarow)\n",
    "\n",
    "        # append the row to csv\n",
    "        df_row = pd.DataFrame([datarow])\n",
    "        df_row.to_csv(fname, quotechar=\"'\", mode='a', header=False, index=False)\n",
    "\n",
    "    except InstagramNotFoundException as e:\n",
    "        print(e)\n",
    "        print('.. adding to bad list')\n",
    "        bad_list.append(media)\n",
    "\n",
    "    progress_idx = curr_idx\n",
    "    \n",
    "    # random long sleep\n",
    "    sleep_time = np.random.randint(60)\n",
    "    print(f'.. sleeping for {sleep_time}s')\n",
    "    sleep(sleep_time)"
   ]
  }
 ],
 "metadata": {
  "kernelspec": {
   "display_name": "Python 3",
   "language": "python",
   "name": "python3"
  },
  "language_info": {
   "codemirror_mode": {
    "name": "ipython",
    "version": 3
   },
   "file_extension": ".py",
   "mimetype": "text/x-python",
   "name": "python",
   "nbconvert_exporter": "python",
   "pygments_lexer": "ipython3",
   "version": "3.6.8"
  }
 },
 "nbformat": 4,
 "nbformat_minor": 2
}
