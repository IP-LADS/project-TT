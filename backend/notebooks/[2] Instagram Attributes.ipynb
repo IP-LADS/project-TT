{
 "cells": [
  {
   "cell_type": "markdown",
   "metadata": {},
   "source": [
    "# Project TT Instagram Data Attributes\n",
    "- This notebook shows how we extract data attribute from the media information obtained through Instagram API"
   ]
  },
  {
   "cell_type": "markdown",
   "metadata": {},
   "source": [
    "Let's get started by importing modules & login instagram API"
   ]
  },
  {
   "cell_type": "code",
   "execution_count": null,
   "metadata": {},
   "outputs": [],
   "source": [
    "# don't worry about these\n",
    "%load_ext autoreload\n",
    "%autoreload 2"
   ]
  },
  {
   "cell_type": "code",
   "execution_count": null,
   "metadata": {},
   "outputs": [],
   "source": [
    "from time import sleep\n",
    "\n",
    "from igramscraper.instagram import Instagram\n",
    "import numpy as np\n",
    "import matplotlib.pyplot as plt\n",
    "%matplotlib inline  "
   ]
  },
  {
   "cell_type": "markdown",
   "metadata": {},
   "source": [
    "##### Digression: Reusing code & modules\n",
    "Do you remember `get_thumbnail` and `show_thumbnail` from \"[1] Instagram Scraper API Tutorial.ipynb\"? I want to reuse them and not implement it again here. In order to do so, I put the function definitions in `core.utils`. Therefore by *importing* our own module, we can use the functions here.\n",
    "\n",
    "When you call `import module_xyz`, python tries to find `module_xyz` from a few \"locations\":\n",
    "- (1) internal system directories,\n",
    "- (2) current working directory and\n",
    "- (3) directories under the *environment variable* called `PYTHONPATH`.\n",
    "\n",
    "If the module is located somewhere other than these paths, then it cannot be discovered! See it for yourself:"
   ]
  },
  {
   "cell_type": "code",
   "execution_count": null,
   "metadata": {},
   "outputs": [],
   "source": [
    "import sys  # a library that helps us find out the system information of our machines\n",
    "sys.path  # this is PYTHONPATH stored within python"
   ]
  },
  {
   "cell_type": "code",
   "execution_count": null,
   "metadata": {},
   "outputs": [],
   "source": [
    "import os  # a library that helps us find out the directories of our machines\n",
    "os.getcwd()  # get the (c)urrent (w)orking (d)irectory"
   ]
  },
  {
   "cell_type": "code",
   "execution_count": null,
   "metadata": {},
   "outputs": [],
   "source": [
    "import core  # FAILS, as core is not in PYTHONPATH, neither in the current directory"
   ]
  },
  {
   "cell_type": "markdown",
   "metadata": {},
   "source": [
    "As you can see, our `core` module which lives under `project_TT` is not visible in PYTHONPATH. So let's add it."
   ]
  },
  {
   "cell_type": "code",
   "execution_count": null,
   "metadata": {},
   "outputs": [],
   "source": [
    "# add project root to python path\n",
    "PROJECT_TT_ROOT = os.path.abspath('..')  # this might change for you depending on where you are running\n",
    "sys.path.append(PROJECT_TT_ROOT)"
   ]
  },
  {
   "cell_type": "code",
   "execution_count": null,
   "metadata": {},
   "outputs": [],
   "source": [
    "# now lets import the core\n",
    "import core  # works!\n",
    "from core.utils import get_thumbnail, show_thumbnail, imresize"
   ]
  },
  {
   "cell_type": "markdown",
   "metadata": {},
   "source": [
    "##### Now lets get back to business!\n",
    "\n",
    "login using Instagram API"
   ]
  },
  {
   "cell_type": "code",
   "execution_count": null,
   "metadata": {},
   "outputs": [],
   "source": [
    "instagram = Instagram(sleep_between_requests=10)"
   ]
  },
  {
   "cell_type": "markdown",
   "metadata": {},
   "source": [
    "##### Data Attributes\n",
    "We will extract the following attributes from the media that we are scraping:\n",
    "- User\n",
    "    - User ID\n",
    "    - Full name\n",
    "- Location\n",
    "    - Location ID\n",
    "    - Location name\n",
    "- Media type: one of {Image, Video, Carousel}\n",
    "- Caption\n",
    "- Comments\n",
    "    - A list of comments\n",
    "    - Number of comments\n",
    "- Time created\n",
    "- Number of likes\n",
    "- URLs\n",
    "    - Image/video/carousel URL\n",
    "    - Thumbnail URL\n",
    "\n",
    "Cool! Let's remind ourselves what attributes are in each media"
   ]
  },
  {
   "cell_type": "code",
   "execution_count": null,
   "metadata": {},
   "outputs": [],
   "source": [
    "# choose which one to test...\n",
    "image_urls = {\n",
    "    'kjeragbolten': 'https://www.instagram.com/p/B2Mwbzkg-m8/',\n",
    "    'songkran': 'https://www.instagram.com/p/Bw96sSrgoGa/',\n",
    "    'kohphiphi': 'https://www.instagram.com/p/BwmhYcFAzUi/'\n",
    "}\n",
    "\n",
    "image_url = image_urls['kjeragbolten']"
   ]
  },
  {
   "cell_type": "code",
   "execution_count": null,
   "metadata": {},
   "outputs": [],
   "source": [
    "media = instagram.get_media_by_url(image_url)\n",
    "print(media)"
   ]
  },
  {
   "cell_type": "code",
   "execution_count": null,
   "metadata": {},
   "outputs": [],
   "source": [
    "thumbnail = get_thumbnail(media.image_thumbnail_url)\n",
    "show_thumbnail(thumbnail, media.caption)"
   ]
  },
  {
   "cell_type": "code",
   "execution_count": null,
   "metadata": {},
   "outputs": [],
   "source": [
    "# Media ID\n",
    "print('[Media ID]')\n",
    "print(media.identifier)  # Internal ID\n",
    "print(media.short_code)\n",
    "print(media.link)  # Media URL\n",
    "print(media.type)  # type: image, video or carousel\n",
    "# Username \n",
    "print('[Username]')\n",
    "print(media.owner.identifier)\n",
    "print(media.owner.username)\n",
    "print(media.owner.full_name)\n",
    "# Location\n",
    "print('[Location]')\n",
    "print(media.location_name)\n",
    "# Post descriptions\n",
    "print('[Caption]')\n",
    "print(media.caption)\n",
    "# Time posted\n",
    "print('[Time]')\n",
    "print(media.created_time)  # <- can you guess wtf is this number mean?\n",
    "# Number of likes\n",
    "print('[#likes]')\n",
    "print(media.likes_count)\n",
    "# Number of comments\n",
    "print('[Comments]')\n",
    "print(media.comments_count)  # <- this is wrong\n",
    "print(media.comments)  # <- this is empty...\n",
    "# Image url\n",
    "print('[Image URLs]')\n",
    "print(media.image_thumbnail_url)\n",
    "print(media.image_high_resolution_url)  # original resolution"
   ]
  },
  {
   "cell_type": "markdown",
   "metadata": {},
   "source": [
    "The returned object is missing some information we are looking for:\n",
    "  - the comments.\n",
    "  - I know this post has multiple images (carousel), but I'm only getting the url for the first one. We might use this later\n",
    "\n",
    "This meant that we need to hack the code again to get the information that we want!"
   ]
  },
  {
   "cell_type": "markdown",
   "metadata": {},
   "source": [
    "##### ENTER HACK-MODE\n",
    "- Again, I copied the piece of source code from `get_media_json_by_url`\n",
    "- I'm going to modify it to get all the information that we are looking for"
   ]
  },
  {
   "cell_type": "code",
   "execution_count": null,
   "metadata": {},
   "outputs": [],
   "source": [
    "import requests\n",
    "import re\n",
    "from igramscraper.exception.instagram_exception import InstagramException\n",
    "from igramscraper.exception.instagram_not_found_exception import InstagramNotFoundException\n",
    "\n",
    "\n",
    "def get_media_json_by_url(insta_obj, media_url):\n",
    "    \"\"\"\n",
    "    \n",
    "    Original code found at: https://github.com/realsirjoe/instagram-scraper/blob/2d5fb53f1a92add34a8dbcf129708ed15d478190/igramscraper/instagram.py#L371\n",
    "\n",
    "    :param media_url: media url\n",
    "    :return: json \n",
    "    \"\"\"\n",
    "    # create a one-off session\n",
    "    __req = requests.session()\n",
    "    \n",
    "    # === Don't worry from here ===\n",
    "    url_regex = r'http[s]?://(?:[a-zA-Z]|[0-9]|[$-_@.&+]|[!*\\(\\),]|(?:%[0-9a-fA-F][0-9a-fA-F]))+'\n",
    "    if len(re.findall(url_regex, media_url)) <= 0:\n",
    "        raise ValueError('Malformed media url')\n",
    "    url = media_url.rstrip('/') + '/?__a=1'\n",
    "    # === to here ===\n",
    "    \n",
    "    # Make request to get the information\n",
    "    response = __req.get(url, headers=insta_obj.generate_headers(insta_obj.user_session))\n",
    "\n",
    "    # === Don't worry from here ===\n",
    "    if Instagram.HTTP_NOT_FOUND == response.status_code:\n",
    "        raise InstagramNotFoundException('Media with given code does not exist or account is private.')\n",
    "\n",
    "    if Instagram.HTTP_OK != response.status_code:\n",
    "        raise InstagramException.default(response.text, response.status_code)\n",
    "    # === to here ===\n",
    "\n",
    "    media_array = response.json()\n",
    "    try:\n",
    "        media_in_json = media_array['graphql']['shortcode_media']\n",
    "    except KeyError:\n",
    "        raise InstagramException('Media with this code does not exist')\n",
    "\n",
    "    return media_in_json"
   ]
  },
  {
   "cell_type": "code",
   "execution_count": null,
   "metadata": {},
   "outputs": [],
   "source": [
    "media_json = get_media_json_by_url(instagram, image_url)"
   ]
  },
  {
   "cell_type": "markdown",
   "metadata": {},
   "source": [
    "Alright! what keys are actually returned? SHOW ME EVERYTHING:"
   ]
  },
  {
   "cell_type": "code",
   "execution_count": null,
   "metadata": {
    "scrolled": false
   },
   "outputs": [],
   "source": [
    "for k, v in media_json.items():\n",
    "    print(f'[{k}]: {v}\\n\\n')"
   ]
  },
  {
   "cell_type": "markdown",
   "metadata": {},
   "source": [
    "Okay this is quite long ass, but it is quite informative. In fact, we got:\n",
    "- All comments\n",
    "- All carousel images\n",
    "- `is_video` attribute which will let us find out if it is (an) image(s) or a video.\n",
    "\n",
    "Cool! Let's write our own wrapper which not only gets the default media but other information we want as well"
   ]
  },
  {
   "cell_type": "code",
   "execution_count": null,
   "metadata": {},
   "outputs": [],
   "source": [
    "from igramscraper.model import Media\n",
    "\n",
    "def get_type(typename):\n",
    "    if typename == 'GraphImage':\n",
    "        return 'image'\n",
    "    elif typename == 'GraphVideo':\n",
    "        return 'video'"
   ]
  },
  {
   "cell_type": "code",
   "execution_count": null,
   "metadata": {},
   "outputs": [],
   "source": [
    "# the default things scraped by them\n",
    "m = Media(media_json)"
   ]
  },
  {
   "cell_type": "code",
   "execution_count": null,
   "metadata": {},
   "outputs": [],
   "source": [
    "# add comments to media\n",
    "comments_attr = media_json['edge_media_to_parent_comment']\n",
    "comments = [ comment['node']['text'] for comment in  media_json['edge_media_to_parent_comment']['edges'] ]\n",
    "comments_count = len(comments)  # note that this is untested.. there might be paginated comments, in which probably this solution is not enough\n",
    "comments = '_[COMMENT_SEPERSTOR]_'.join(comments) # into a string\n",
    "m.comments = comments\n",
    "m.comments_count = comments_count"
   ]
  },
  {
   "cell_type": "code",
   "execution_count": null,
   "metadata": {},
   "outputs": [],
   "source": [
    "# add carousel urls to media\n",
    "media_ids = []\n",
    "media_types = []\n",
    "thumbnails = []\n",
    "image_highres_urls = []\n",
    "if 'edge_sidecar_to_children' in media_json:\n",
    "    sidecars = media_json['edge_sidecar_to_children']['edges']\n",
    "    for sidecar in sidecars:\n",
    "        node = sidecar['node']\n",
    "        media_ids.append(node['id'])\n",
    "        media_types.append(get_type(node['__typename']))\n",
    "        thumbnails.append(node['display_resources'][0]['src'])\n",
    "        image_highres_urls.append(node['display_resources'][-1]['src'])\n",
    "media_ids = ','.join(media_ids)\n",
    "media_types = ','.join(media_types)\n",
    "thumbnails = ' , '.join(thumbnails)\n",
    "image_highres_urls = ' , '.join(image_highres_urls)\n",
    "\n",
    "# create new attributes\n",
    "m.carousel_ids = media_ids\n",
    "m.carousel_types = media_types\n",
    "m.carousel_thumbnail_urls = thumbnails\n",
    "m.carousel_image_highres_urls = image_highres_urls"
   ]
  },
  {
   "cell_type": "code",
   "execution_count": null,
   "metadata": {},
   "outputs": [],
   "source": [
    "columns = [\n",
    "    'media_id', \n",
    "    'media_code', \n",
    "    'media_link', \n",
    "    'user_id',\n",
    "    'username',\n",
    "    'user_full_name',\n",
    "    'type', \n",
    "    'created_time',\n",
    "    'likes_count', \n",
    "    'img_thumbnail_url', \n",
    "    'img_highres_url', \n",
    "    'carousel_ids',\n",
    "    'carousel_types',\n",
    "    'carousel_thumbnail_urls', \n",
    "    'carousel_highres_urls', \n",
    "    'caption',\n",
    "    'comments_count',\n",
    "    'comments',\n",
    "    'location_id',\n",
    "    'location_name',\n",
    "    'location_slug',\n",
    "]\n",
    "\n",
    "sample_row = [\n",
    "    m.identifier,\n",
    "    m.short_code,\n",
    "    m.link,\n",
    "    m.owner.identifier,\n",
    "    m.owner.username,\n",
    "    m.owner.full_name,\n",
    "    m.type,\n",
    "    m.created_time,\n",
    "    m.likes_count,\n",
    "    m.image_thumbnail_url,\n",
    "    m.image_high_resolution_url,\n",
    "    m.carousel_ids,\n",
    "    m.carousel_types,\n",
    "    m.carousel_thumbnail_urls,\n",
    "    m.carousel_image_highres_urls,\n",
    "    m.caption,\n",
    "    m.comments_count,\n",
    "    m.comments,\n",
    "    m.location_id,  \n",
    "    m.location_name,\n",
    "    m.location_slug,\n",
    "]\n",
    "for k, v in zip(columns, sample_row):\n",
    "    print(f'[{k}]: {v}')"
   ]
  },
  {
   "cell_type": "markdown",
   "metadata": {},
   "source": [
    "So there we have it!"
   ]
  },
  {
   "cell_type": "markdown",
   "metadata": {},
   "source": [
    "##### Saving Images\n",
    "Now lets look into downloading the thumbnails for our display.\n",
    "- We already have `get_thumbnail` to download the image\n",
    "- We just need to specify where to download on our machines\n",
    "- I want to download to \n",
    "    - `project_tt/data/images` for the original small images\n",
    "    - `project_tt/data/thumbnails` for the miniature images"
   ]
  },
  {
   "cell_type": "code",
   "execution_count": null,
   "metadata": {},
   "outputs": [],
   "source": [
    "thumbnail = get_thumbnail(m.image_high_resolution_url)"
   ]
  },
  {
   "cell_type": "code",
   "execution_count": null,
   "metadata": {},
   "outputs": [],
   "source": [
    "show_thumbnail(thumbnail, 'Orig')\n",
    "# resize the image\n",
    "thumbnail_resized = imresize(thumbnail, (64, 64))\n",
    "show_thumbnail(thumbnail_resized, 'Downsampled')"
   ]
  },
  {
   "cell_type": "markdown",
   "metadata": {},
   "source": [
    "lets save them!"
   ]
  },
  {
   "cell_type": "code",
   "execution_count": null,
   "metadata": {},
   "outputs": [],
   "source": [
    "import pathlib  # library that helps us manage directories and paths conveniently\n",
    "\n",
    "# build temporary paths to save\n",
    "image_path = pathlib.Path('tmp/data/images')\n",
    "thumbnail_path = pathlib.Path('tmp/data/thumbnails')\n",
    "\n",
    "# create the directories if they don't exist\n",
    "image_path.mkdir(parents=True, exist_ok=True)\n",
    "thumbnail_path.mkdir(parents=True, exist_ok=True)"
   ]
  },
  {
   "cell_type": "code",
   "execution_count": null,
   "metadata": {},
   "outputs": [],
   "source": [
    "from PIL import Image\n",
    "imname = f'{image_path}/{m.identifier}.jpeg'\n",
    "Image.fromarray(thumbnail).save(imname)\n",
    "\n",
    "thumbnail_name = f'{thumbnail_path}/{m.identifier}.jpeg'\n",
    "Image.fromarray(thumbnail_resized).save(thumbnail_name)"
   ]
  },
  {
   "cell_type": "markdown",
   "metadata": {},
   "source": [
    "check if they are saved"
   ]
  },
  {
   "cell_type": "code",
   "execution_count": null,
   "metadata": {},
   "outputs": [],
   "source": [
    "# this command is not python! its terminal command running in jupyter-notebook via jupyter magic!\n",
    "!ls $image_path"
   ]
  },
  {
   "cell_type": "code",
   "execution_count": null,
   "metadata": {},
   "outputs": [],
   "source": [
    "!ls $thumbnail_path"
   ]
  },
  {
   "cell_type": "markdown",
   "metadata": {},
   "source": [
    "You can load them like this"
   ]
  },
  {
   "cell_type": "code",
   "execution_count": null,
   "metadata": {},
   "outputs": [],
   "source": [
    "loaded = Image.open(thumbnail_name)\n",
    "loaded"
   ]
  },
  {
   "cell_type": "code",
   "execution_count": null,
   "metadata": {},
   "outputs": [],
   "source": []
  }
 ],
 "metadata": {
  "kernelspec": {
   "display_name": "Python 3",
   "language": "python",
   "name": "python3"
  },
  "language_info": {
   "codemirror_mode": {
    "name": "ipython",
    "version": 3
   },
   "file_extension": ".py",
   "mimetype": "text/x-python",
   "name": "python",
   "nbconvert_exporter": "python",
   "pygments_lexer": "ipython3",
   "version": "3.6.8"
  }
 },
 "nbformat": 4,
 "nbformat_minor": 2
}
