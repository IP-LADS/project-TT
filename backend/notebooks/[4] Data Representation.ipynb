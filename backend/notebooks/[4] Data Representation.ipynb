{
 "cells": [
  {
   "cell_type": "markdown",
   "metadata": {},
   "source": [
    "# Data Representation\n",
    "- We will use object oriented programming (OOP) to handle our data\n",
    "- Up to this point, we scraped data and put them in csv file\n",
    "- Now we want to load them from csv files.\n",
    "- Rather than representing the data as a \"row\" in the database, we can encapsulate them in objects so we can deal with \"objects\" and \"interactions\" with the object\n",
    "\n",
    "- We will represent our data as ``Media`` object\n",
    "  - ``Media`` object has attributes such as `media_id`, `image`, etc..\n",
    "  - ``Media`` object also has references to `User` and `Location`\n",
    "  - ``User`` and ``Location`` are also objects\n",
    "  \n",
    "  - There are three types of ``Media``, which we are using design pattern called [inheritance](https://www.w3schools.com/python/python_inheritance.asp)\n",
    "      - `MediaImage`\n",
    "      - `MediaVideo`\n",
    "      - `MediaCarousel`"
   ]
  },
  {
   "cell_type": "markdown",
   "metadata": {},
   "source": [
    "Let's import libraries and the models"
   ]
  },
  {
   "cell_type": "code",
   "execution_count": null,
   "metadata": {},
   "outputs": [],
   "source": [
    "%load_ext autoreload\n",
    "%autoreload 2"
   ]
  },
  {
   "cell_type": "code",
   "execution_count": null,
   "metadata": {},
   "outputs": [],
   "source": [
    "import os, sys, time, datetime, pathlib\n",
    "import numpy as np\n",
    "import matplotlib.pyplot as plt\n",
    "import pandas as pd\n",
    "%matplotlib inline\n",
    "\n",
    "PROJECT_ROOT = pathlib.Path('../../../project-TT')\n",
    "sys.path.append(str(PROJECT_ROOT / 'backend'))\n",
    "\n",
    "from core.db.models import User, Location, Media, MediaCarousel, MediaImage, MediaVideo"
   ]
  },
  {
   "cell_type": "markdown",
   "metadata": {},
   "source": [
    "# Object definitions\n",
    "\n",
    "- We briefly describe how each object looks like, and what kind of attributes they have\n",
    "- Firstly, `User` is an object which has `id`, `username` and `full_name`.\n",
    "\n",
    "```python\n",
    "class User:\n",
    "    def __init__(self, id, name, full_name):\n",
    "        # ...\n",
    "```\n",
    "\n",
    "- Secondly, `Location` is an object which has `id`, `name` and `slug`.\n",
    "\n",
    "```python\n",
    "class Location:\n",
    "    def __init__(self, id, name, slug):\n",
    "        # ...\n",
    "```"
   ]
  },
  {
   "cell_type": "markdown",
   "metadata": {},
   "source": [
    "### Media class and subclasses\n",
    "- ANY Instagram feed will contain following attributes:\n",
    "    - user,\n",
    "    - location,\n",
    "    - id,\n",
    "    - url,\n",
    "    - time created\n",
    "    - caption,\n",
    "    - comments,\n",
    "    - number of likes\n",
    "    - etc.. \n",
    "- Media might be image, video or carousel, which we don't know yet. \n",
    "- But in order to represent the underlying \"template\" for instagram posts, we define following abstract class called `Media`"
   ]
  },
  {
   "cell_type": "markdown",
   "metadata": {},
   "source": [
    "Parent class:\n",
    "```python\n",
    "class Media(abc.ABCMeta):\n",
    "    \"\"\" Abstract class representing Media object \"\"\"\n",
    "    def __init__(\n",
    "        self,\n",
    "        id,\n",
    "        url,\n",
    "        time,\n",
    "        likes_count,\n",
    "        caption,\n",
    "        comments,\n",
    "        user,\n",
    "        location,\n",
    "    ):\n",
    "        # ...\n",
    "```"
   ]
  },
  {
   "cell_type": "markdown",
   "metadata": {},
   "source": [
    "- In order to represent the concrete instance of media -- e.g., a media containing image -- we have `MediaImage` which \"subclasses\" `Media`\n",
    "\n",
    "\n",
    "Child class:\n",
    "```python\n",
    "class MediaImage(Media):\n",
    "    \"\"\" Concrete class representing image media \"\"\"\n",
    "    def __init__(\n",
    "        self,\n",
    "        id,\n",
    "        url,\n",
    "        time,\n",
    "        likes_count,\n",
    "        caption,\n",
    "        comments,\n",
    "        user,\n",
    "        location,\n",
    "        image_url,\n",
    "        thumbnail_url,\n",
    "        image=None,\n",
    "        thumbnail=None,\n",
    "    ):\n",
    "        # ...\n",
    "```\n",
    "\n",
    "- We also have `MediaVideo` and `MediaCarousel`"
   ]
  },
  {
   "cell_type": "markdown",
   "metadata": {},
   "source": [
    "- Notice that `Media` object has references to `User` and `Location`.\n",
    "- Now, how can we convert each row of pandas table into this `Media` object? We need to perform several things:\n",
    "    - We first need to create `User` and `Location` object\n",
    "    - we then need to parse convert `comments` into a list of comments\n",
    "    - Convert raw \"time\" representation into python `DateTime` object\n",
    "    - load image from database\n",
    "    \n",
    "- These are the underlying things you have to perform before loading into a model. We do this in a method called `MediaImage.create_from_row(dataframe_row)`"
   ]
  },
  {
   "cell_type": "markdown",
   "metadata": {},
   "source": [
    "Let's try loading a row in dataset into an object!"
   ]
  },
  {
   "cell_type": "code",
   "execution_count": null,
   "metadata": {},
   "outputs": [],
   "source": [
    "# load dataset csv\n",
    "dataset = pd.read_csv('../../data/data.csv', quotechar=\"'\")"
   ]
  },
  {
   "cell_type": "code",
   "execution_count": null,
   "metadata": {},
   "outputs": [],
   "source": [
    "# load first element\n",
    "media = dataset.iloc[0]"
   ]
  },
  {
   "cell_type": "code",
   "execution_count": null,
   "metadata": {},
   "outputs": [],
   "source": [
    "# load the first element into MediaImage\n",
    "media_image = MediaImage.create_from_row(media)\n",
    "print(media_image)"
   ]
  },
  {
   "cell_type": "markdown",
   "metadata": {},
   "source": [
    "that's it!"
   ]
  },
  {
   "cell_type": "code",
   "execution_count": null,
   "metadata": {},
   "outputs": [],
   "source": [
    "# we can access attributes like this:\n",
    "print(media_image.id)\n",
    "print(media_image.caption)\n",
    "print(media_image.comments)\n",
    "print(media_image.user)\n",
    "print(media_image.location)"
   ]
  },
  {
   "cell_type": "code",
   "execution_count": null,
   "metadata": {},
   "outputs": [],
   "source": [
    "# load the thumbnail\n",
    "media_image.load_thumbnail(root_dir=PROJECT_ROOT)"
   ]
  },
  {
   "cell_type": "code",
   "execution_count": null,
   "metadata": {},
   "outputs": [],
   "source": [
    "# load the image\n",
    "media_image.load_image(root_dir=PROJECT_ROOT)"
   ]
  },
  {
   "cell_type": "markdown",
   "metadata": {},
   "source": [
    "We can load 100 subjects"
   ]
  },
  {
   "cell_type": "code",
   "execution_count": null,
   "metadata": {},
   "outputs": [],
   "source": [
    "# list to keep track of them\n",
    "media_images = []\n",
    "for i in range(100):\n",
    "    media_image = MediaImage.create_from_row(dataset.iloc[i])\n",
    "    media_image.load_image(root_dir=PROJECT_ROOT)\n",
    "    media_image.load_thumbnail(root_dir=PROJECT_ROOT)\n",
    "    media_images.append(media_image)"
   ]
  },
  {
   "cell_type": "code",
   "execution_count": null,
   "metadata": {},
   "outputs": [],
   "source": [
    "# lets visualize the thumbnails!\n",
    "fig, axes = plt.subplots(nrows=10, ncols=10, figsize=(15,15))\n",
    "axes = axes.ravel()\n",
    "for i, media in enumerate(media_images):\n",
    "    axes[i].imshow(media.thumbnail);\n",
    "    axes[i].axis('off');\n",
    "plt.subplots_adjust()\n",
    "plt.show()"
   ]
  }
 ],
 "metadata": {
  "kernelspec": {
   "display_name": "Python 3",
   "language": "python",
   "name": "python3"
  },
  "language_info": {
   "codemirror_mode": {
    "name": "ipython",
    "version": 3
   },
   "file_extension": ".py",
   "mimetype": "text/x-python",
   "name": "python",
   "nbconvert_exporter": "python",
   "pygments_lexer": "ipython3",
   "version": "3.6.8"
  }
 },
 "nbformat": 4,
 "nbformat_minor": 2
}
