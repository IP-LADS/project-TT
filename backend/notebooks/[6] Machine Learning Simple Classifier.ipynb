{
 "cells": [
  {
   "cell_type": "markdown",
   "metadata": {},
   "source": [
    "# Project REJECTTED\n",
    "- This notebook shows how to train a simple classifier to detect whether an instagram media is a legitimate post about tourism, as opposed to other miscellaneous images\n",
    "- We have manually labelled data, where the label can be found at: `data/labels.csv`\n",
    "- We will use `RandomForestClassifier` from `sklearn`."
   ]
  },
  {
   "cell_type": "code",
   "execution_count": null,
   "metadata": {},
   "outputs": [],
   "source": [
    "import sys, pathlib\n",
    "\n",
    "import numpy as np\n",
    "import pandas as pd\n",
    "from PIL import Image\n",
    "import matplotlib.pyplot as plt\n",
    "%matplotlib inline\n",
    "\n",
    "sys.path.append('../../backend')\n",
    "from core.db.persistence import load_dataset\n",
    "\n",
    "from sklearn.metrics import classification_report\n",
    "from sklearn.ensemble import RandomForestClassifier"
   ]
  },
  {
   "cell_type": "code",
   "execution_count": null,
   "metadata": {},
   "outputs": [],
   "source": [
    "ROOT_DIR = pathlib.Path('../..')\n",
    "DATA_DIR = ROOT_DIR / 'data'"
   ]
  },
  {
   "cell_type": "markdown",
   "metadata": {},
   "source": [
    "##### Load and build dataset"
   ]
  },
  {
   "cell_type": "code",
   "execution_count": null,
   "metadata": {},
   "outputs": [],
   "source": [
    "# load media id's\n",
    "dataset = load_dataset(ROOT_DIR)"
   ]
  },
  {
   "cell_type": "code",
   "execution_count": null,
   "metadata": {},
   "outputs": [],
   "source": [
    "# load labels\n",
    "label_map = pd.read_csv(DATA_DIR / 'labels.csv', header=None)\n",
    "label_map.columns = ['id', 'label']"
   ]
  },
  {
   "cell_type": "code",
   "execution_count": null,
   "metadata": {},
   "outputs": [],
   "source": [
    "# load thumbnails\n",
    "images = []\n",
    "for data in dataset:\n",
    "    image = np.array(data.load_thumbnail(ROOT_DIR))\n",
    "    images.append(image)\n",
    "images = np.array(images)"
   ]
  },
  {
   "cell_type": "code",
   "execution_count": null,
   "metadata": {},
   "outputs": [],
   "source": [
    "# for each media id, find the correct label\n",
    "labels = []\n",
    "for data in dataset:\n",
    "    label = np.array(label_map.loc[label_map['id'] == int(data.id)].iloc[0].label)\n",
    "    labels.append(label)\n",
    "labels = np.array(labels)"
   ]
  },
  {
   "cell_type": "code",
   "execution_count": null,
   "metadata": {},
   "outputs": [],
   "source": [
    "# add manual collected tourism images to aid the classifier\n",
    "tourism_image_paths = pathlib.Path(DATA_DIR / 'thumbnails').rglob('_manual*')\n",
    "\n",
    "tourism_images = []\n",
    "for tourism_image_path in tourism_image_paths:\n",
    "    tourism_images.append(np.array(Image.open(tourism_image_path)))\n",
    "tourism_images = np.array(tourism_images)\n",
    "print(f'{len(tourism_images)} manually labelled image')\n",
    "\n",
    "# the labels are 1 for all manually collected data\n",
    "tourism_labels = np.repeat(1, len(tourism_images))\n",
    "\n",
    "# add to the current data\n",
    "all_images = np.concatenate([images, tourism_images])\n",
    "all_labels = np.concatenate([labels, tourism_labels])"
   ]
  },
  {
   "cell_type": "code",
   "execution_count": null,
   "metadata": {},
   "outputs": [],
   "source": [
    "inputs = all_images.reshape((len(all_images), -1))\n",
    "targets = all_labels.ravel()"
   ]
  },
  {
   "cell_type": "markdown",
   "metadata": {},
   "source": [
    "##### Training, validation and testing\n",
    "Split data into three subsets"
   ]
  },
  {
   "cell_type": "code",
   "execution_count": null,
   "metadata": {},
   "outputs": [],
   "source": [
    "n_sample = len(all_images)\n",
    "n_train = int(n_sample * 0.7)\n",
    "n_valid = int(n_sample * 0.15)\n",
    "n_test = n_sample - (n_train + n_valid)\n",
    "\n",
    "# suffle the dataset\n",
    "idx = np.arange(n_sample)\n",
    "np.random.shuffle(idx)\n",
    "train_idx = idx[:n_train]\n",
    "val_idx = idx[n_train:n_train+n_valid]\n",
    "test_idx = idx[n_train+n_valid:]\n",
    "\n",
    "# assign\n",
    "train_data = inputs[train_idx]\n",
    "train_label = targets[train_idx]\n",
    "val_data = inputs[val_idx]\n",
    "val_label = targets[val_idx]\n",
    "test_data = inputs[test_idx]\n",
    "test_label = targets[test_idx]\n",
    "\n",
    "print(f'{len(train_idx)} train, {len(val_idx)} val and {len(test_idx)} test images')"
   ]
  },
  {
   "cell_type": "code",
   "execution_count": null,
   "metadata": {},
   "outputs": [],
   "source": [
    "# do some analysis on training and validation data"
   ]
  },
  {
   "cell_type": "code",
   "execution_count": null,
   "metadata": {},
   "outputs": [],
   "source": [
    "print(f'In training data, there are:')\n",
    "print(f' - {np.sum(train_label == 0)} non-tourism images')\n",
    "print(f' - {np.sum(train_label == 1)} tourism images')\n",
    "print(f'In val data, there are:')\n",
    "print(f' - {np.sum(val_label == 0)} non-tourism images')\n",
    "print(f' - {np.sum(val_label == 1)} tourism images')"
   ]
  },
  {
   "cell_type": "markdown",
   "metadata": {},
   "source": [
    "##### Model"
   ]
  },
  {
   "cell_type": "code",
   "execution_count": null,
   "metadata": {},
   "outputs": [],
   "source": [
    "classifier = RandomForestClassifier()"
   ]
  },
  {
   "cell_type": "markdown",
   "metadata": {},
   "source": [
    "##### Training"
   ]
  },
  {
   "cell_type": "code",
   "execution_count": null,
   "metadata": {},
   "outputs": [],
   "source": [
    "# fit the data\n",
    "classifier.fit(train_data, train_label)"
   ]
  },
  {
   "cell_type": "markdown",
   "metadata": {},
   "source": [
    "##### Validation"
   ]
  },
  {
   "cell_type": "code",
   "execution_count": null,
   "metadata": {},
   "outputs": [],
   "source": [
    "# get validation accuracy\n",
    "val_preds = classifier.predict(val_data)\n",
    "errors = val_label == val_preds"
   ]
  },
  {
   "cell_type": "code",
   "execution_count": null,
   "metadata": {},
   "outputs": [],
   "source": [
    "print('Validation Results')\n",
    "print(classification_report(val_label, val_preds, target_names=['Ads', 'Tourism']))"
   ]
  },
  {
   "cell_type": "code",
   "execution_count": null,
   "metadata": {},
   "outputs": [],
   "source": [
    "# visualise some cases to analyse"
   ]
  },
  {
   "cell_type": "code",
   "execution_count": null,
   "metadata": {},
   "outputs": [],
   "source": [
    "# get first 100 images for visualization\n",
    "val_images = val_data[:100].reshape((100, 64, 64, 3))"
   ]
  },
  {
   "cell_type": "code",
   "execution_count": null,
   "metadata": {},
   "outputs": [],
   "source": [
    "# lets visualize the thumbnails!\n",
    "label_title = ['MISC', 'TOUR']\n",
    "fig, axes = plt.subplots(nrows=10, ncols=10, figsize=(20,20))\n",
    "axes = axes.ravel()\n",
    "for i, (val_img, pred, err) in enumerate(zip(val_images, val_preds, errors)):\n",
    "    axes[i].imshow(val_img);\n",
    "    axes[i].axis('off');\n",
    "    axes[i].set_title(f'{label_title[pred]}:{\"CORRECT\" if err else \"WRONG\"}')\n",
    "plt.subplots_adjust()\n",
    "plt.show()"
   ]
  },
  {
   "cell_type": "markdown",
   "metadata": {},
   "source": [
    "##### Test"
   ]
  },
  {
   "cell_type": "code",
   "execution_count": null,
   "metadata": {},
   "outputs": [],
   "source": [
    "# get test accuracy\n",
    "preds = classifier.predict(test_data)"
   ]
  },
  {
   "cell_type": "code",
   "execution_count": null,
   "metadata": {},
   "outputs": [],
   "source": [
    "print('Test Results')\n",
    "print(classification_report(test_label, preds, target_names=['Ads', 'Tourism']))"
   ]
  }
 ],
 "metadata": {
  "kernelspec": {
   "display_name": "Python 3",
   "language": "python",
   "name": "python3"
  },
  "language_info": {
   "codemirror_mode": {
    "name": "ipython",
    "version": 3
   },
   "file_extension": ".py",
   "mimetype": "text/x-python",
   "name": "python",
   "nbconvert_exporter": "python",
   "pygments_lexer": "ipython3",
   "version": "3.6.8"
  }
 },
 "nbformat": 4,
 "nbformat_minor": 2
}
