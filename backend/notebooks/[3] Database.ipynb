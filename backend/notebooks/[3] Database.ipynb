{
 "cells": [
  {
   "cell_type": "markdown",
   "metadata": {},
   "source": [
    "# Project TT Instagram Database\n",
    "- This notebook will show how we create a bunch of instagram posts into a database"
   ]
  },
  {
   "cell_type": "code",
   "execution_count": null,
   "metadata": {},
   "outputs": [],
   "source": [
    "# don't worry about these\n",
    "%load_ext autoreload\n",
    "%autoreload 2"
   ]
  },
  {
   "cell_type": "code",
   "execution_count": null,
   "metadata": {},
   "outputs": [],
   "source": [
    "import os, sys\n",
    "sys.path.append('..')\n",
    "from time import sleep\n",
    "\n",
    "from igramscraper.instagram import Instagram\n",
    "import numpy as np\n",
    "import matplotlib.pyplot as plt\n",
    "import pandas as pd\n",
    "from PIL import Image\n",
    "%matplotlib inline  \n",
    "\n",
    "# import previously defined functions\n",
    "from core.utils import get_thumbnail, show_thumbnail, imresize\n",
    "from core.instagram import get_media_by_url\n",
    "from core.envs import DATA_DIR, IMAGE_DIR, THUMBNAIL_DIR"
   ]
  },
  {
   "cell_type": "code",
   "execution_count": null,
   "metadata": {},
   "outputs": [],
   "source": [
    "# login\n",
    "instagram = Instagram(sleep_between_requests=15)\n",
    "instagram.with_credentials('username', 'password', 'cache')\n",
    "instagram.login()"
   ]
  },
  {
   "cell_type": "markdown",
   "metadata": {},
   "source": [
    "Our MVP spec says:\n",
    "\"We will store our data as a [CSV](https://en.wikipedia.org/wiki/Comma-separated_values) file. We will start with fixed data\"\n",
    "\n",
    "Eventually we want a proper database. Options are:\n",
    "- SQL,\n",
    "- NoSQL,\n",
    "- GraphQL, \n",
    "- etc..,\n",
    "\n",
    "But we don't want to worry about that now."
   ]
  },
  {
   "cell_type": "markdown",
   "metadata": {},
   "source": [
    "Let's create a dataset with 1000 images!"
   ]
  },
  {
   "cell_type": "code",
   "execution_count": null,
   "metadata": {},
   "outputs": [],
   "source": [
    "medias = instagram.get_medias_by_tag('newyork', count=1000)  # this will take some time!"
   ]
  },
  {
   "cell_type": "markdown",
   "metadata": {},
   "source": [
    "Now that they are scraped, lets save them in a database!\n",
    "- We will create pandas.Dataframe\n",
    "- We will then use pandas functionality to generate a csv file\n",
    "\n",
    "Let's first revise what attributes to save (note that this is a list of limited media content which doesn't have the lcoation tag..."
   ]
  },
  {
   "cell_type": "code",
   "execution_count": null,
   "metadata": {},
   "outputs": [],
   "source": [
    "def media_to_row(media):\n",
    "    \"\"\" Convert media object to a row in dataset, with default values. \"\"\"\n",
    "    if hasattr(media, 'thumbnail_src'):\n",
    "        media.image_thumbnail_url = media.thumbnail_src\n",
    "        \n",
    "    # check if media has carousels extracted\n",
    "    if not hasattr(media, 'carousel_ids'):\n",
    "        media.carousel_ids = ''\n",
    "        media.carousel_types = ''\n",
    "        media.carousel_thumbnail_urls = ''\n",
    "        media.carousel_image_highres_urls = ''\n",
    "\n",
    "    row = [\n",
    "        media.identifier,\n",
    "        media.short_code,\n",
    "        media.link,\n",
    "        media.owner.identifier,\n",
    "        media.owner.username,\n",
    "        media.owner.full_name,\n",
    "        media.type,\n",
    "        media.created_time,\n",
    "        media.likes_count,\n",
    "        media.image_thumbnail_url,\n",
    "        media.image_high_resolution_url,\n",
    "        media.carousel_ids,\n",
    "        media.carousel_types,\n",
    "        media.carousel_thumbnail_urls,\n",
    "        media.carousel_image_highres_urls,\n",
    "        media.caption,\n",
    "        media.comments_count,\n",
    "        media.comments,\n",
    "        media.location_id,  \n",
    "        media.location_name,\n",
    "        media.location_slug,\n",
    "    ]\n",
    "    return row"
   ]
  },
  {
   "cell_type": "code",
   "execution_count": null,
   "metadata": {},
   "outputs": [],
   "source": [
    "m = medias[0]"
   ]
  },
  {
   "cell_type": "code",
   "execution_count": null,
   "metadata": {},
   "outputs": [],
   "source": [
    "columns = [\n",
    "    'media_id', \n",
    "    'media_code', \n",
    "    'media_link', \n",
    "    'user_id',\n",
    "    'username',\n",
    "    'user_full_name',\n",
    "    'type', \n",
    "    'created_time',\n",
    "    'likes_count', \n",
    "    'img_thumbnail_url', \n",
    "    'img_highres_url', \n",
    "    'carousel_ids',\n",
    "    'carousel_types',\n",
    "    'carousel_thumbnail_urls', \n",
    "    'carousel_highres_urls', \n",
    "    'caption',\n",
    "    'comments_count',\n",
    "    'comments',\n",
    "    'location_id',\n",
    "    'location_name',\n",
    "    'location_slug',\n",
    "]\n",
    "\n",
    "sample_row = media_to_row(m)\n",
    "for k, v in zip(columns, sample_row):\n",
    "    print(f'[{k}]: {v}')"
   ]
  },
  {
   "cell_type": "markdown",
   "metadata": {},
   "source": [
    "Now let's create data spreadsheet using pandas"
   ]
  },
  {
   "cell_type": "code",
   "execution_count": null,
   "metadata": {},
   "outputs": [],
   "source": [
    "rawdata = []\n",
    "for m in medias:\n",
    "    rawdata.append(media_to_row(m))"
   ]
  },
  {
   "cell_type": "code",
   "execution_count": null,
   "metadata": {},
   "outputs": [],
   "source": [
    "df = pd.DataFrame(rawdata, columns=columns)\n",
    "df.head(3)"
   ]
  },
  {
   "cell_type": "code",
   "execution_count": null,
   "metadata": {},
   "outputs": [],
   "source": [
    "# save the data as csv\n",
    "df.to_csv(os.path.join('..', DATA_DIR, 'newyork_20191124.csv'), quotechar=\"'\")"
   ]
  },
  {
   "cell_type": "markdown",
   "metadata": {},
   "source": [
    "Done! "
   ]
  },
  {
   "cell_type": "markdown",
   "metadata": {},
   "source": [
    "For fun... lets check what's the most liked photo in this 1000 posts"
   ]
  },
  {
   "cell_type": "code",
   "execution_count": null,
   "metadata": {},
   "outputs": [],
   "source": [
    "df_sorted = df.sort_values(by=['likes_count'], ascending=False).head(3)\n",
    "for i in range(3):\n",
    "    curr_data = df_sorted.iloc[i]\n",
    "    url = curr_data.img_thumbnail_url\n",
    "    best_thumbnail = get_thumbnail(url)\n",
    "    show_thumbnail(best_thumbnail, f'#{i+1}: {curr_data.likes_count} likes')"
   ]
  },
  {
   "cell_type": "markdown",
   "metadata": {},
   "source": [
    "... I don't get people!"
   ]
  }
 ],
 "metadata": {
  "kernelspec": {
   "display_name": "Python 3",
   "language": "python",
   "name": "python3"
  },
  "language_info": {
   "codemirror_mode": {
    "name": "ipython",
    "version": 3
   },
   "file_extension": ".py",
   "mimetype": "text/x-python",
   "name": "python",
   "nbconvert_exporter": "python",
   "pygments_lexer": "ipython3",
   "version": "3.6.8"
  }
 },
 "nbformat": 4,
 "nbformat_minor": 2
}
